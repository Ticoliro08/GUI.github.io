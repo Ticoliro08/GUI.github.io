{
  "nbformat": 4,
  "nbformat_minor": 0,
  "metadata": {
    "colab": {
      "provenance": [],
      "authorship_tag": "ABX9TyPR8tsevKVTZUJZcqirOggx",
      "include_colab_link": true
    },
    "kernelspec": {
      "name": "python3",
      "display_name": "Python 3"
    },
    "language_info": {
      "name": "python"
    }
  },
  "cells": [
    {
      "cell_type": "markdown",
      "metadata": {
        "id": "view-in-github",
        "colab_type": "text"
      },
      "source": [
        "<a href=\"https://colab.research.google.com/github/Ticoliro08/GUI.github.io/blob/main/Retomando.ipynb\" target=\"_parent\"><img src=\"https://colab.research.google.com/assets/colab-badge.svg\" alt=\"Open In Colab\"/></a>"
      ]
    },
    {
      "cell_type": "code",
      "source": [
        "email = 'ggsantana@gmail.com'\n",
        "\n",
        "print(email.split('@')[0])"
      ],
      "metadata": {
        "colab": {
          "base_uri": "https://localhost:8080/"
        },
        "id": "xV5It-Xji2jv",
        "outputId": "79fd733f-fad2-4af0-910e-9825dd9b5d71"
      },
      "execution_count": null,
      "outputs": [
        {
          "output_type": "stream",
          "name": "stdout",
          "text": [
            "ggsantana\n"
          ]
        }
      ]
    },
    {
      "cell_type": "code",
      "source": [
        "email = 'ggsantana@gmail.com'\n",
        "\n",
        "print(email.split('@'))"
      ],
      "metadata": {
        "colab": {
          "base_uri": "https://localhost:8080/"
        },
        "id": "SvukICFQjFtO",
        "outputId": "ec681e79-360b-45ce-d34e-c54729078c34"
      },
      "execution_count": null,
      "outputs": [
        {
          "output_type": "stream",
          "name": "stdout",
          "text": [
            "['ggsantana', 'gmail.com']\n"
          ]
        }
      ]
    },
    {
      "cell_type": "markdown",
      "source": [
        "SPLIT é um comando para separação de String de acordo com um termo"
      ],
      "metadata": {
        "id": "BFmHun0hjIjG"
      }
    },
    {
      "cell_type": "markdown",
      "source": [
        "##Looping"
      ],
      "metadata": {
        "id": "iDK-CTeu13DE"
      }
    },
    {
      "cell_type": "code",
      "source": [
        "frutas = ['pera', 'maça', 'banana', 'uva']\n",
        "\n",
        "for i in frutas:\n",
        "  print(i)"
      ],
      "metadata": {
        "id": "exHfJknWjY8u",
        "colab": {
          "base_uri": "https://localhost:8080/"
        },
        "outputId": "749ca453-07bc-4a02-cb8b-0f5748bdd21f"
      },
      "execution_count": 1,
      "outputs": [
        {
          "output_type": "stream",
          "name": "stdout",
          "text": [
            "pera\n",
            "maça\n",
            "banana\n",
            "uva\n"
          ]
        }
      ]
    },
    {
      "cell_type": "code",
      "source": [
        "for char in 'domingo':\n",
        "  print(char)"
      ],
      "metadata": {
        "colab": {
          "base_uri": "https://localhost:8080/"
        },
        "id": "s-PVpPFp3F0e",
        "outputId": "093e0785-ac7d-44ab-ce80-38e9b48ede6e"
      },
      "execution_count": null,
      "outputs": [
        {
          "output_type": "stream",
          "name": "stdout",
          "text": [
            "d\n",
            "o\n",
            "m\n",
            "i\n",
            "n\n",
            "g\n",
            "o\n"
          ]
        }
      ]
    },
    {
      "cell_type": "code",
      "source": [
        "person1 = {\n",
        "    'nome': 'guilherme',\n",
        "    'sexo': 'masculino',\n",
        "    'idade': 18,\n",
        "    'casado': True\n",
        "}\n",
        "\n",
        "for key in person1:\n",
        "  print(key , ':', person1[key])"
      ],
      "metadata": {
        "colab": {
          "base_uri": "https://localhost:8080/"
        },
        "id": "FLraKyLB8b0-",
        "outputId": "5f95ec82-68cb-4bc2-e9bd-f1b3a67b6af8"
      },
      "execution_count": null,
      "outputs": [
        {
          "output_type": "stream",
          "name": "stdout",
          "text": [
            "nome : guilherme\n",
            "sexo : masculino\n",
            "idade : 18\n",
            "casado : True\n"
          ]
        }
      ]
    },
    {
      "cell_type": "code",
      "source": [
        "for i in range(1, 6):\n",
        "  print(i)"
      ],
      "metadata": {
        "colab": {
          "base_uri": "https://localhost:8080/"
        },
        "id": "l5fT9pLkIPvl",
        "outputId": "d6cfeffa-acd0-4207-96d6-e66f628d04dc"
      },
      "execution_count": null,
      "outputs": [
        {
          "output_type": "stream",
          "name": "stdout",
          "text": [
            "1\n",
            "2\n",
            "3\n",
            "4\n",
            "5\n"
          ]
        }
      ]
    },
    {
      "cell_type": "code",
      "source": [
        "numerador = int(input(\"Qual o número que quer que se faça a tabuada: \"))\n",
        "print(\"\\n\")\n",
        "for i in range(1,11):\n",
        "    result = i * numerador\n",
        "    print(f\"{numerador} x {i} = {result}\")\n",
        "    i = i + 1"
      ],
      "metadata": {
        "colab": {
          "base_uri": "https://localhost:8080/"
        },
        "id": "0XeIy3UeP9a0",
        "outputId": "32bee938-eeeb-4fea-aa84-42b692c88a14"
      },
      "execution_count": null,
      "outputs": [
        {
          "output_type": "stream",
          "name": "stdout",
          "text": [
            "Qual o número que quer que se faça a tabuada: 5\n",
            "\n",
            "\n",
            "5 x 1 = 5\n",
            "5 x 2 = 10\n",
            "5 x 3 = 15\n",
            "5 x 4 = 20\n",
            "5 x 5 = 25\n",
            "5 x 6 = 30\n",
            "5 x 7 = 35\n",
            "5 x 8 = 40\n",
            "5 x 9 = 45\n",
            "5 x 10 = 50\n"
          ]
        }
      ]
    },
    {
      "cell_type": "code",
      "source": [
        "n = int(input('digite um numero inteiro: '))\n",
        "soma_impares = 0\n",
        "contador = 1\n",
        "\n",
        "while contador <= n:\n",
        "  if contador % 2 != 0:\n",
        "    soma_impares += contador\n",
        "  contador += 1\n",
        "\n",
        "print(f'A soma dos numeros impares até {n} é {soma_impares}')"
      ],
      "metadata": {
        "colab": {
          "base_uri": "https://localhost:8080/"
        },
        "id": "9GN1aJEQUTs0",
        "outputId": "059957c0-947f-45d7-baf2-7489511d6f62"
      },
      "execution_count": null,
      "outputs": [
        {
          "output_type": "stream",
          "name": "stdout",
          "text": [
            "digite um numero inteiro: 100\n",
            "A soma dos numeros impares até 100 é 2500\n"
          ]
        }
      ]
    },
    {
      "cell_type": "code",
      "source": [
        "a = int(input('Digite o primeiro numero: '))\n",
        "b = int(input('Digite o segundo numero: '))\n",
        "\n",
        "soma = a + b\n",
        "print(f'A soma é: {soma}')"
      ],
      "metadata": {
        "colab": {
          "base_uri": "https://localhost:8080/"
        },
        "id": "H34m7rjramSn",
        "outputId": "22e70978-9aca-47f4-b789-8cc6c6c7afea"
      },
      "execution_count": null,
      "outputs": [
        {
          "output_type": "stream",
          "name": "stdout",
          "text": [
            "Digite o primeiro numero: 2\n",
            "Digite o segundo numero: 2\n",
            " A soma é: 4\n"
          ]
        }
      ]
    },
    {
      "cell_type": "code",
      "source": [
        "qnt_produtos = int(input('Digite a quantidade de produtos: '))\n",
        "contador = 0\n",
        "for valor_produto in range(qnt_produtos):\n",
        "  valor_produto = int(input(f'Passe o valor do produto {valor_produto}: '))\n",
        "  contador = contador + valor_produto\n",
        "cmd\n",
        "print(f'O total de vendas é de {contador}')"
      ],
      "metadata": {
        "colab": {
          "base_uri": "https://localhost:8080/"
        },
        "id": "q9gEEDFZdvmj",
        "outputId": "fd05570b-089d-4ecd-dfa6-f395dade70a9"
      },
      "execution_count": 2,
      "outputs": [
        {
          "output_type": "stream",
          "name": "stdout",
          "text": [
            "Digite a quantidade de produtos: 3\n",
            "Passe o valor do produto 0: 5\n",
            "Passe o valor do produto 1: 5\n",
            "Passe o valor do produto 2: 5\n",
            "O total de vendas é de 15\n"
          ]
        }
      ]
    }
  ]
}