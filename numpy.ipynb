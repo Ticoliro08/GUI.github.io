{
  "nbformat": 4,
  "nbformat_minor": 0,
  "metadata": {
    "colab": {
      "provenance": [],
      "authorship_tag": "ABX9TyP5c6mYpni6c4x6T3QiLeCc",
      "include_colab_link": true
    },
    "kernelspec": {
      "name": "python3",
      "display_name": "Python 3"
    },
    "language_info": {
      "name": "python"
    }
  },
  "cells": [
    {
      "cell_type": "markdown",
      "metadata": {
        "id": "view-in-github",
        "colab_type": "text"
      },
      "source": [
        "<a href=\"https://colab.research.google.com/github/Ticoliro08/GUI.github.io/blob/main/numpy.ipynb\" target=\"_parent\"><img src=\"https://colab.research.google.com/assets/colab-badge.svg\" alt=\"Open In Colab\"/></a>"
      ]
    },
    {
      "cell_type": "markdown",
      "source": [
        "#Numpy\n"
      ],
      "metadata": {
        "id": "HXQBiVvptm0w"
      }
    },
    {
      "cell_type": "code",
      "execution_count": 3,
      "metadata": {
        "colab": {
          "base_uri": "https://localhost:8080/"
        },
        "id": "xTNp-L0fmQZt",
        "outputId": "62494fe0-ee70-4794-e2cd-c62a9f6c242d"
      },
      "outputs": [
        {
          "output_type": "stream",
          "name": "stdout",
          "text": [
            "0.3\n",
            "0.2\n",
            "0.5\n"
          ]
        }
      ],
      "source": [
        "w1, w2, w3 = 0.3, 0.2, 0.5\n",
        "print(w1)\n",
        "print(w2)\n",
        "print(w3)"
      ]
    },
    {
      "cell_type": "code",
      "source": [
        "regiaoA_temperatura = 22\n",
        "regiaoA_chuva = 67\n",
        "regiaoA_umidade = 65"
      ],
      "metadata": {
        "id": "35FtqnTWpnSf"
      },
      "execution_count": null,
      "outputs": []
    }
  ]
}