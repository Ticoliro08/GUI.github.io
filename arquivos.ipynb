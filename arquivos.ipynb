{
  "cells": [
    {
      "cell_type": "markdown",
      "metadata": {
        "id": "view-in-github",
        "colab_type": "text"
      },
      "source": [
        "<a href=\"https://colab.research.google.com/github/Ticoliro08/GUI.github.io/blob/main/arquivos.ipynb\" target=\"_parent\"><img src=\"https://colab.research.google.com/assets/colab-badge.svg\" alt=\"Open In Colab\"/></a>"
      ]
    },
    {
      "cell_type": "markdown",
      "metadata": {
        "id": "kwuIydzuBUE7"
      },
      "source": [
        "#Manipulação de arquivos"
      ]
    },
    {
      "cell_type": "code",
      "execution_count": null,
      "metadata": {
        "colab": {
          "base_uri": "https://localhost:8080/"
        },
        "id": "WyeTROBDBToN",
        "outputId": "ee40cf92-7790-4c7c-a707-16cee8366edd"
      },
      "outputs": [
        {
          "name": "stdout",
          "output_type": "stream",
          "text": [
            "O Corinthians está perto de se sagrar campeão em 100 torneios diferentes ao longo de toda a história. \n",
            "Veja a lista completa de títulos!\n"
          ]
        }
      ],
      "source": [
        "arquivo = open(\"corinthians.txt\", \"r\")  # 'r' = read\n",
        "\n",
        "conteudo = arquivo.read()  # variavel 'conteudo' esta lendo o arquivo\n",
        "\n",
        "print(conteudo) # printa o texto do arquivo\n",
        "\n",
        "arquivo.close() # fecha o arquivo (IMPORTANTE FECHAR)\n",
        "\n"
      ]
    },
    {
      "cell_type": "markdown",
      "metadata": {
        "id": "SiaAArT9GnOD"
      },
      "source": [
        "###Escrever emum arquivo"
      ]
    },
    {
      "cell_type": "code",
      "execution_count": null,
      "metadata": {
        "id": "V7acNPeKEkoS"
      },
      "outputs": [],
      "source": [
        "arquivo = open(\"novo_arquivo.txt\", \"w\") # 'W' = write\n",
        "\n",
        "arquivo.write(\"Melhor time\") # escreva o conteudo do arquivo\n",
        "\n",
        "\n",
        "arquivo.close()"
      ]
    },
    {
      "cell_type": "markdown",
      "metadata": {
        "id": "ji5MsdljGxJR"
      },
      "source": [
        "###Renomeia arquivo"
      ]
    },
    {
      "cell_type": "code",
      "execution_count": null,
      "metadata": {
        "colab": {
          "base_uri": "https://localhost:8080/"
        },
        "id": "UaH4fOhWF7nq",
        "outputId": "dcb43f64-0b5a-4971-e130-2369b62b6ce3"
      },
      "outputs": [
        {
          "name": "stdout",
          "output_type": "stream",
          "text": [
            "arquivo renomeado com sucesso!\n"
          ]
        }
      ],
      "source": [
        "import os\n",
        "\n",
        "os.rename('novo_arquivo.txt', 'arquivo_renomeado.txt') # nome do arquivo original, nome do arquivo mudado\n",
        "\n",
        "print('arquivo renomeado com sucesso!')\n"
      ]
    },
    {
      "cell_type": "markdown",
      "metadata": {
        "id": "zRI_2CjtHCUR"
      },
      "source": [
        "###Deletar um arquivo\n"
      ]
    },
    {
      "cell_type": "code",
      "execution_count": null,
      "metadata": {
        "id": "hDDafgrgHGLN"
      },
      "outputs": [],
      "source": [
        "import os\n",
        "\n",
        "if os.path.exists('arquivo_renomeado.txt'):     # se o arquivo com nome \"arquivo_renomeado.txt\" existir ele sera EXCLUIDO\n",
        "  os.remove('arquivo_renomeado.txt')\n",
        "\n",
        "  print('arquivo excluido com sucesso')\n",
        "\n",
        "else:\n",
        "  print('arquivo não encontrado')"
      ]
    },
    {
      "cell_type": "markdown",
      "metadata": {
        "id": "qg61iBlVnZeI"
      },
      "source": [
        "##Exercício"
      ]
    },
    {
      "cell_type": "code",
      "execution_count": null,
      "metadata": {
        "id": "6Q1OyDUmnTAP"
      },
      "outputs": [],
      "source": [
        "nome = input(\"Digite seu nome:\")\n",
        "idade = int(input(\"Digite sua idade:\"))\n",
        "\n",
        "if idade>17:\n",
        "    print(\"Você esta liberado!\")\n",
        "    with open (\"Aprovados.txt\",\"w\") as arquivo:\n",
        "        arquivo.write(f\"Seja bem vindo(a) {nome}\")\n",
        "else:\n",
        " print(\"Você nn esta liberado!\")\n",
        "\n",
        "with open (\"Reprovados.txt\",\"w\") as arquivo:\n",
        "    arquivo.write(f\"Ola {nome}, vc nn foi liberado pois possui {idade} anos\")"
      ]
    },
    {
      "cell_type": "code",
      "execution_count": null,
      "metadata": {
        "id": "CJswGqJ7qBld"
      },
      "outputs": [],
      "source": [
        "with open('relatorio2024.txt', 'w') as a:\n",
        "  a.write('relatorio criado em 2024')\n",
        "\n",
        "import os\n",
        "\n",
        "os.rename('relatorio2024.txt', 'relatorio_2024.txt')\n"
      ]
    },
    {
      "cell_type": "code",
      "execution_count": null,
      "metadata": {
        "colab": {
          "base_uri": "https://localhost:8080/"
        },
        "id": "i6j_0_CMr9cV",
        "outputId": "b135b928-3e80-4ea0-979e-a7c1d6eb16b4"
      },
      "outputs": [
        {
          "name": "stdout",
          "output_type": "stream",
          "text": [
            "arquivo foi deletado\n"
          ]
        }
      ],
      "source": [
        "import os\n",
        "\n",
        "if os.path.exists('relatorio_2024.txt'):\n",
        "  os.remove('relatorio_2024.txt')\n",
        "\n",
        "  print('arquivo foi deletado')\n",
        "\n",
        "else:\n",
        "  print('arquivo não encontrado')"
      ]
    },
    {
      "cell_type": "markdown",
      "metadata": {
        "id": "whu35VSQvW8z"
      },
      "source": [
        "##Desafio"
      ]
    },
    {
      "cell_type": "code",
      "execution_count": null,
      "metadata": {
        "colab": {
          "base_uri": "https://localhost:8080/"
        },
        "id": "pL_spqwpvZDD",
        "outputId": "6ab2e0fd-1c49-4d4e-9136-57d3c9d90cbf"
      },
      "outputs": [
        {
          "name": "stdout",
          "output_type": "stream",
          "text": [
            "Digite um valor (1 a 5): 4\n",
            "Tente novamente.\n",
            "Digite um valor (1 a 5): 5\n",
            "Tente novamente.\n",
            "Digite um valor (1 a 5): 2\n",
            "Tente novamente.\n",
            "Digite um valor (1 a 5): 1\n",
            "Parabéns. Você acertou!\n",
            "Você quer continuar jogando?  n\n"
          ]
        }
      ],
      "source": [
        "from random import randint\n",
        "import os\n",
        "\n",
        "opcao = \"s\"\n",
        "while opcao == \"s\":\n",
        "\n",
        " tentativa  = 0\n",
        "\n",
        " def numero_aleatorio(chute):\n",
        "  aleatorio=randint(1,5)\n",
        "\n",
        "\n",
        "  while aleatorio != chute:\n",
        "\n",
        "    chute=int(input(\"Digite um valor (1 a 5): \"))\n",
        "    if (aleatorio == chute):\n",
        "      print(\"Parabéns. Você acertou!\")\n",
        "\n",
        "    else:\n",
        "\n",
        "      print(\"Tente novamente.\")\n",
        "\n",
        " numero_aleatorio(chute)\n",
        "\n",
        "\n",
        "\n",
        " opcao = input(\"Você quer continuar jogando?  \")\n",
        " with open('tentativas.txt', 'w') as arquivo:\n",
        "   arquivo.write(f'voce acertou em {chute} tentativas')"
      ]
    },
    {
      "cell_type": "markdown",
      "source": [
        "##Openxlsx"
      ],
      "metadata": {
        "id": "JPmKsDuI48_0"
      }
    },
    {
      "cell_type": "code",
      "source": [
        "pip install openpyxl # import openpyxl"
      ],
      "metadata": {
        "colab": {
          "base_uri": "https://localhost:8080/"
        },
        "id": "OoYVi-fR46jc",
        "outputId": "dd793112-a0f5-4f83-f64e-01265d1aed40"
      },
      "execution_count": null,
      "outputs": [
        {
          "output_type": "stream",
          "name": "stdout",
          "text": [
            "Requirement already satisfied: openpyxl in /usr/local/lib/python3.10/dist-packages (3.1.5)\n",
            "Requirement already satisfied: et-xmlfile in /usr/local/lib/python3.10/dist-packages (from openpyxl) (2.0.0)\n"
          ]
        }
      ]
    },
    {
      "cell_type": "code",
      "source": [
        "import os\n",
        "\n",
        "os.rename(\"teste.xlsx\", 'tabela_teste.xlsx')"
      ],
      "metadata": {
        "id": "_houxKmd5QtL"
      },
      "execution_count": null,
      "outputs": []
    },
    {
      "cell_type": "code",
      "source": [
        "from openpyxl import load_workbook\n",
        "\n",
        "arquivo = '/content/tabela_teste.xlsx'    #                          EXPORTANDO TABELA\n",
        "\n",
        "wb = load_workbook(arquivo)\n",
        "\n",
        "planilha = wb.active"
      ],
      "metadata": {
        "id": "jlLCNrFQ5Uub"
      },
      "execution_count": null,
      "outputs": []
    },
    {
      "cell_type": "code",
      "source": [
        "dados = []\n",
        "\n",
        "for row in planilha.iter_rows():      #                               EXTRAINDO CONTEUDO DA TABELA\n",
        "  dados.append([cell.value for cell in row])\n"
      ],
      "metadata": {
        "id": "QOjfcCKZ5Yg0"
      },
      "execution_count": null,
      "outputs": []
    },
    {
      "cell_type": "code",
      "source": [
        "dados   #                                                        PRINTANDO EM FORMA DE LISTA"
      ],
      "metadata": {
        "colab": {
          "base_uri": "https://localhost:8080/"
        },
        "id": "u8Vtl_nc6Fxb",
        "outputId": "ed5b37e3-9de5-4944-9b75-ac613795b0ac"
      },
      "execution_count": null,
      "outputs": [
        {
          "output_type": "execute_result",
          "data": {
            "text/plain": [
              "[['nome', 'idade'], ['joao', 18], ['maria', 17], ['jose', 15], ['antonio', 24]]"
            ]
          },
          "metadata": {},
          "execution_count": 15
        }
      ]
    },
    {
      "cell_type": "code",
      "source": [
        "for linha in dados:      #                                           PRINTANDO EM FORMATO DE TABELA\n",
        "  print(linha)"
      ],
      "metadata": {
        "colab": {
          "base_uri": "https://localhost:8080/"
        },
        "id": "2bXef0nW5cfb",
        "outputId": "d9394ca0-e1b3-4e33-b007-43ff6aee084b"
      },
      "execution_count": null,
      "outputs": [
        {
          "output_type": "stream",
          "name": "stdout",
          "text": [
            "['nome', 'idade']\n",
            "['joao', 18]\n",
            "['maria', 17]\n",
            "['jose', 15]\n",
            "['antonio', 24]\n"
          ]
        }
      ]
    },
    {
      "cell_type": "markdown",
      "source": [
        "##Criando planilha"
      ],
      "metadata": {
        "id": "liqAYCPx7FgD"
      }
    },
    {
      "cell_type": "code",
      "source": [
        "from openpyxl import Workbook\n",
        "\n",
        "wb = Workbook()\n",
        "\n",
        "planilha = wb.active\n",
        "planilha.title = 'Planilha1'\n",
        "\n",
        "\n",
        "#                                   CRIANDO COLUNAS\n",
        "planilha['A1'] = 'Nome'\n",
        "planilha['B1'] = 'Idade'\n",
        "planilha['C1'] = 'Região'\n",
        "\n",
        "\n",
        "#                                   ADICIONANDO ITENS AS COLUNAS\n",
        "planilha['A2'] = 'joao'\n",
        "planilha['B2'] = 19\n",
        "planilha['C2'] = 'vinhedo'\n",
        "\n",
        "planilha['A3'] = 'jonas'\n",
        "planilha['B3'] = 20\n",
        "planilha['C3'] = 'valinhos'\n",
        "\n",
        "planilha['A4'] = 'cirilo'\n",
        "planilha['B4'] = 21\n",
        "planilha['C4'] = 'jundiai'\n",
        "\n",
        "planilha['A5'] = 'maria joaquina'\n",
        "planilha['B5'] = 30\n",
        "planilha['C5'] = 'louveira'\n",
        "\n",
        "\n",
        "wb.save('novo_arquivo.xlsx')\n",
        "\n",
        "\n"
      ],
      "metadata": {
        "id": "01UXt6lj7L1T"
      },
      "execution_count": null,
      "outputs": []
    },
    {
      "cell_type": "markdown",
      "source": [
        "##Pandas"
      ],
      "metadata": {
        "id": "rl6gi4Bj6Sxz"
      }
    },
    {
      "cell_type": "code",
      "source": [
        "import pandas as pd\n",
        "\n",
        "tabela = pd.read_excel('/content/tabela_teste.xlsx')\n",
        "\n",
        "\n",
        "tabela"
      ],
      "metadata": {
        "colab": {
          "base_uri": "https://localhost:8080/",
          "height": 175
        },
        "id": "8oNNOfvC6V6G",
        "outputId": "6255264e-17d7-4a79-db71-5986ad86e425"
      },
      "execution_count": null,
      "outputs": [
        {
          "output_type": "execute_result",
          "data": {
            "text/plain": [
              "      nome  idade\n",
              "0     joao     18\n",
              "1    maria     17\n",
              "2     jose     15\n",
              "3  antonio     24"
            ],
            "text/html": [
              "\n",
              "  <div id=\"df-2e8ddc45-53b6-4a10-a773-9ecac1cca0db\" class=\"colab-df-container\">\n",
              "    <div>\n",
              "<style scoped>\n",
              "    .dataframe tbody tr th:only-of-type {\n",
              "        vertical-align: middle;\n",
              "    }\n",
              "\n",
              "    .dataframe tbody tr th {\n",
              "        vertical-align: top;\n",
              "    }\n",
              "\n",
              "    .dataframe thead th {\n",
              "        text-align: right;\n",
              "    }\n",
              "</style>\n",
              "<table border=\"1\" class=\"dataframe\">\n",
              "  <thead>\n",
              "    <tr style=\"text-align: right;\">\n",
              "      <th></th>\n",
              "      <th>nome</th>\n",
              "      <th>idade</th>\n",
              "    </tr>\n",
              "  </thead>\n",
              "  <tbody>\n",
              "    <tr>\n",
              "      <th>0</th>\n",
              "      <td>joao</td>\n",
              "      <td>18</td>\n",
              "    </tr>\n",
              "    <tr>\n",
              "      <th>1</th>\n",
              "      <td>maria</td>\n",
              "      <td>17</td>\n",
              "    </tr>\n",
              "    <tr>\n",
              "      <th>2</th>\n",
              "      <td>jose</td>\n",
              "      <td>15</td>\n",
              "    </tr>\n",
              "    <tr>\n",
              "      <th>3</th>\n",
              "      <td>antonio</td>\n",
              "      <td>24</td>\n",
              "    </tr>\n",
              "  </tbody>\n",
              "</table>\n",
              "</div>\n",
              "    <div class=\"colab-df-buttons\">\n",
              "\n",
              "  <div class=\"colab-df-container\">\n",
              "    <button class=\"colab-df-convert\" onclick=\"convertToInteractive('df-2e8ddc45-53b6-4a10-a773-9ecac1cca0db')\"\n",
              "            title=\"Convert this dataframe to an interactive table.\"\n",
              "            style=\"display:none;\">\n",
              "\n",
              "  <svg xmlns=\"http://www.w3.org/2000/svg\" height=\"24px\" viewBox=\"0 -960 960 960\">\n",
              "    <path d=\"M120-120v-720h720v720H120Zm60-500h600v-160H180v160Zm220 220h160v-160H400v160Zm0 220h160v-160H400v160ZM180-400h160v-160H180v160Zm440 0h160v-160H620v160ZM180-180h160v-160H180v160Zm440 0h160v-160H620v160Z\"/>\n",
              "  </svg>\n",
              "    </button>\n",
              "\n",
              "  <style>\n",
              "    .colab-df-container {\n",
              "      display:flex;\n",
              "      gap: 12px;\n",
              "    }\n",
              "\n",
              "    .colab-df-convert {\n",
              "      background-color: #E8F0FE;\n",
              "      border: none;\n",
              "      border-radius: 50%;\n",
              "      cursor: pointer;\n",
              "      display: none;\n",
              "      fill: #1967D2;\n",
              "      height: 32px;\n",
              "      padding: 0 0 0 0;\n",
              "      width: 32px;\n",
              "    }\n",
              "\n",
              "    .colab-df-convert:hover {\n",
              "      background-color: #E2EBFA;\n",
              "      box-shadow: 0px 1px 2px rgba(60, 64, 67, 0.3), 0px 1px 3px 1px rgba(60, 64, 67, 0.15);\n",
              "      fill: #174EA6;\n",
              "    }\n",
              "\n",
              "    .colab-df-buttons div {\n",
              "      margin-bottom: 4px;\n",
              "    }\n",
              "\n",
              "    [theme=dark] .colab-df-convert {\n",
              "      background-color: #3B4455;\n",
              "      fill: #D2E3FC;\n",
              "    }\n",
              "\n",
              "    [theme=dark] .colab-df-convert:hover {\n",
              "      background-color: #434B5C;\n",
              "      box-shadow: 0px 1px 3px 1px rgba(0, 0, 0, 0.15);\n",
              "      filter: drop-shadow(0px 1px 2px rgba(0, 0, 0, 0.3));\n",
              "      fill: #FFFFFF;\n",
              "    }\n",
              "  </style>\n",
              "\n",
              "    <script>\n",
              "      const buttonEl =\n",
              "        document.querySelector('#df-2e8ddc45-53b6-4a10-a773-9ecac1cca0db button.colab-df-convert');\n",
              "      buttonEl.style.display =\n",
              "        google.colab.kernel.accessAllowed ? 'block' : 'none';\n",
              "\n",
              "      async function convertToInteractive(key) {\n",
              "        const element = document.querySelector('#df-2e8ddc45-53b6-4a10-a773-9ecac1cca0db');\n",
              "        const dataTable =\n",
              "          await google.colab.kernel.invokeFunction('convertToInteractive',\n",
              "                                                    [key], {});\n",
              "        if (!dataTable) return;\n",
              "\n",
              "        const docLinkHtml = 'Like what you see? Visit the ' +\n",
              "          '<a target=\"_blank\" href=https://colab.research.google.com/notebooks/data_table.ipynb>data table notebook</a>'\n",
              "          + ' to learn more about interactive tables.';\n",
              "        element.innerHTML = '';\n",
              "        dataTable['output_type'] = 'display_data';\n",
              "        await google.colab.output.renderOutput(dataTable, element);\n",
              "        const docLink = document.createElement('div');\n",
              "        docLink.innerHTML = docLinkHtml;\n",
              "        element.appendChild(docLink);\n",
              "      }\n",
              "    </script>\n",
              "  </div>\n",
              "\n",
              "\n",
              "<div id=\"df-b16b0e96-0c3c-487d-9851-c1db20ff7015\">\n",
              "  <button class=\"colab-df-quickchart\" onclick=\"quickchart('df-b16b0e96-0c3c-487d-9851-c1db20ff7015')\"\n",
              "            title=\"Suggest charts\"\n",
              "            style=\"display:none;\">\n",
              "\n",
              "<svg xmlns=\"http://www.w3.org/2000/svg\" height=\"24px\"viewBox=\"0 0 24 24\"\n",
              "     width=\"24px\">\n",
              "    <g>\n",
              "        <path d=\"M19 3H5c-1.1 0-2 .9-2 2v14c0 1.1.9 2 2 2h14c1.1 0 2-.9 2-2V5c0-1.1-.9-2-2-2zM9 17H7v-7h2v7zm4 0h-2V7h2v10zm4 0h-2v-4h2v4z\"/>\n",
              "    </g>\n",
              "</svg>\n",
              "  </button>\n",
              "\n",
              "<style>\n",
              "  .colab-df-quickchart {\n",
              "      --bg-color: #E8F0FE;\n",
              "      --fill-color: #1967D2;\n",
              "      --hover-bg-color: #E2EBFA;\n",
              "      --hover-fill-color: #174EA6;\n",
              "      --disabled-fill-color: #AAA;\n",
              "      --disabled-bg-color: #DDD;\n",
              "  }\n",
              "\n",
              "  [theme=dark] .colab-df-quickchart {\n",
              "      --bg-color: #3B4455;\n",
              "      --fill-color: #D2E3FC;\n",
              "      --hover-bg-color: #434B5C;\n",
              "      --hover-fill-color: #FFFFFF;\n",
              "      --disabled-bg-color: #3B4455;\n",
              "      --disabled-fill-color: #666;\n",
              "  }\n",
              "\n",
              "  .colab-df-quickchart {\n",
              "    background-color: var(--bg-color);\n",
              "    border: none;\n",
              "    border-radius: 50%;\n",
              "    cursor: pointer;\n",
              "    display: none;\n",
              "    fill: var(--fill-color);\n",
              "    height: 32px;\n",
              "    padding: 0;\n",
              "    width: 32px;\n",
              "  }\n",
              "\n",
              "  .colab-df-quickchart:hover {\n",
              "    background-color: var(--hover-bg-color);\n",
              "    box-shadow: 0 1px 2px rgba(60, 64, 67, 0.3), 0 1px 3px 1px rgba(60, 64, 67, 0.15);\n",
              "    fill: var(--button-hover-fill-color);\n",
              "  }\n",
              "\n",
              "  .colab-df-quickchart-complete:disabled,\n",
              "  .colab-df-quickchart-complete:disabled:hover {\n",
              "    background-color: var(--disabled-bg-color);\n",
              "    fill: var(--disabled-fill-color);\n",
              "    box-shadow: none;\n",
              "  }\n",
              "\n",
              "  .colab-df-spinner {\n",
              "    border: 2px solid var(--fill-color);\n",
              "    border-color: transparent;\n",
              "    border-bottom-color: var(--fill-color);\n",
              "    animation:\n",
              "      spin 1s steps(1) infinite;\n",
              "  }\n",
              "\n",
              "  @keyframes spin {\n",
              "    0% {\n",
              "      border-color: transparent;\n",
              "      border-bottom-color: var(--fill-color);\n",
              "      border-left-color: var(--fill-color);\n",
              "    }\n",
              "    20% {\n",
              "      border-color: transparent;\n",
              "      border-left-color: var(--fill-color);\n",
              "      border-top-color: var(--fill-color);\n",
              "    }\n",
              "    30% {\n",
              "      border-color: transparent;\n",
              "      border-left-color: var(--fill-color);\n",
              "      border-top-color: var(--fill-color);\n",
              "      border-right-color: var(--fill-color);\n",
              "    }\n",
              "    40% {\n",
              "      border-color: transparent;\n",
              "      border-right-color: var(--fill-color);\n",
              "      border-top-color: var(--fill-color);\n",
              "    }\n",
              "    60% {\n",
              "      border-color: transparent;\n",
              "      border-right-color: var(--fill-color);\n",
              "    }\n",
              "    80% {\n",
              "      border-color: transparent;\n",
              "      border-right-color: var(--fill-color);\n",
              "      border-bottom-color: var(--fill-color);\n",
              "    }\n",
              "    90% {\n",
              "      border-color: transparent;\n",
              "      border-bottom-color: var(--fill-color);\n",
              "    }\n",
              "  }\n",
              "</style>\n",
              "\n",
              "  <script>\n",
              "    async function quickchart(key) {\n",
              "      const quickchartButtonEl =\n",
              "        document.querySelector('#' + key + ' button');\n",
              "      quickchartButtonEl.disabled = true;  // To prevent multiple clicks.\n",
              "      quickchartButtonEl.classList.add('colab-df-spinner');\n",
              "      try {\n",
              "        const charts = await google.colab.kernel.invokeFunction(\n",
              "            'suggestCharts', [key], {});\n",
              "      } catch (error) {\n",
              "        console.error('Error during call to suggestCharts:', error);\n",
              "      }\n",
              "      quickchartButtonEl.classList.remove('colab-df-spinner');\n",
              "      quickchartButtonEl.classList.add('colab-df-quickchart-complete');\n",
              "    }\n",
              "    (() => {\n",
              "      let quickchartButtonEl =\n",
              "        document.querySelector('#df-b16b0e96-0c3c-487d-9851-c1db20ff7015 button');\n",
              "      quickchartButtonEl.style.display =\n",
              "        google.colab.kernel.accessAllowed ? 'block' : 'none';\n",
              "    })();\n",
              "  </script>\n",
              "</div>\n",
              "\n",
              "  <div id=\"id_491cc1d7-8061-49d3-add6-c4a5e17e662b\">\n",
              "    <style>\n",
              "      .colab-df-generate {\n",
              "        background-color: #E8F0FE;\n",
              "        border: none;\n",
              "        border-radius: 50%;\n",
              "        cursor: pointer;\n",
              "        display: none;\n",
              "        fill: #1967D2;\n",
              "        height: 32px;\n",
              "        padding: 0 0 0 0;\n",
              "        width: 32px;\n",
              "      }\n",
              "\n",
              "      .colab-df-generate:hover {\n",
              "        background-color: #E2EBFA;\n",
              "        box-shadow: 0px 1px 2px rgba(60, 64, 67, 0.3), 0px 1px 3px 1px rgba(60, 64, 67, 0.15);\n",
              "        fill: #174EA6;\n",
              "      }\n",
              "\n",
              "      [theme=dark] .colab-df-generate {\n",
              "        background-color: #3B4455;\n",
              "        fill: #D2E3FC;\n",
              "      }\n",
              "\n",
              "      [theme=dark] .colab-df-generate:hover {\n",
              "        background-color: #434B5C;\n",
              "        box-shadow: 0px 1px 3px 1px rgba(0, 0, 0, 0.15);\n",
              "        filter: drop-shadow(0px 1px 2px rgba(0, 0, 0, 0.3));\n",
              "        fill: #FFFFFF;\n",
              "      }\n",
              "    </style>\n",
              "    <button class=\"colab-df-generate\" onclick=\"generateWithVariable('tabela')\"\n",
              "            title=\"Generate code using this dataframe.\"\n",
              "            style=\"display:none;\">\n",
              "\n",
              "  <svg xmlns=\"http://www.w3.org/2000/svg\" height=\"24px\"viewBox=\"0 0 24 24\"\n",
              "       width=\"24px\">\n",
              "    <path d=\"M7,19H8.4L18.45,9,17,7.55,7,17.6ZM5,21V16.75L18.45,3.32a2,2,0,0,1,2.83,0l1.4,1.43a1.91,1.91,0,0,1,.58,1.4,1.91,1.91,0,0,1-.58,1.4L9.25,21ZM18.45,9,17,7.55Zm-12,3A5.31,5.31,0,0,0,4.9,8.1,5.31,5.31,0,0,0,1,6.5,5.31,5.31,0,0,0,4.9,4.9,5.31,5.31,0,0,0,6.5,1,5.31,5.31,0,0,0,8.1,4.9,5.31,5.31,0,0,0,12,6.5,5.46,5.46,0,0,0,6.5,12Z\"/>\n",
              "  </svg>\n",
              "    </button>\n",
              "    <script>\n",
              "      (() => {\n",
              "      const buttonEl =\n",
              "        document.querySelector('#id_491cc1d7-8061-49d3-add6-c4a5e17e662b button.colab-df-generate');\n",
              "      buttonEl.style.display =\n",
              "        google.colab.kernel.accessAllowed ? 'block' : 'none';\n",
              "\n",
              "      buttonEl.onclick = () => {\n",
              "        google.colab.notebook.generateWithVariable('tabela');\n",
              "      }\n",
              "      })();\n",
              "    </script>\n",
              "  </div>\n",
              "\n",
              "    </div>\n",
              "  </div>\n"
            ],
            "application/vnd.google.colaboratory.intrinsic+json": {
              "type": "dataframe",
              "variable_name": "tabela",
              "summary": "{\n  \"name\": \"tabela\",\n  \"rows\": 4,\n  \"fields\": [\n    {\n      \"column\": \"nome\",\n      \"properties\": {\n        \"dtype\": \"string\",\n        \"num_unique_values\": 4,\n        \"samples\": [\n          \"maria\",\n          \"antonio\",\n          \"joao\"\n        ],\n        \"semantic_type\": \"\",\n        \"description\": \"\"\n      }\n    },\n    {\n      \"column\": \"idade\",\n      \"properties\": {\n        \"dtype\": \"number\",\n        \"std\": 3,\n        \"min\": 15,\n        \"max\": 24,\n        \"num_unique_values\": 4,\n        \"samples\": [\n          17,\n          24,\n          18\n        ],\n        \"semantic_type\": \"\",\n        \"description\": \"\"\n      }\n    }\n  ]\n}"
            }
          },
          "metadata": {},
          "execution_count": 16
        }
      ]
    },
    {
      "cell_type": "code",
      "source": [
        "import pandas as pd\n",
        "                                          #          CRIANDO PLANILHA COM 'PANDAS'\n",
        "dados = {\n",
        "   'Nome':['joao', 'maria', 'jose'],\n",
        "   'Idade':[18, 20, 17],\n",
        "   'Região': ['valinhos', 'vinhedo', 'jundiai']\n",
        "\n",
        "}\n",
        "\n",
        "\n",
        "planilha = pd.DataFrame(dados)\n",
        "\n",
        "planilha.to_excel('planilha.xlsx', index=False, sheet_name='Planilha1')"
      ],
      "metadata": {
        "id": "CqrRdjSl_Ls5"
      },
      "execution_count": null,
      "outputs": []
    },
    {
      "cell_type": "code",
      "source": [
        "import pandas as pd\n",
        "\n",
        "df = pd.DataFrame ({                        #     FAZENDO UMA TABELA\n",
        "   'Nome':['henrique', 'marcos', 'pietro'],\n",
        "   'Idade':[15, 20, 17],\n",
        "})\n",
        "            # ADICIONANDO COLUNA\n",
        "df['Categoria'] = df ['Idade'].apply(lambda x: 'Adulto' if x > 18 else 'Menor de idade')     # SE COLUNA IDADE FOR MAIOR QUE 18 CATEGORIA IGUAL ADULTO SENÃO IGUAL MENOR DE IDADE\n",
        "\n",
        "df.to_excel('nova_nova.xlsx', index = False)"
      ],
      "metadata": {
        "id": "7doQ5i98BvLw"
      },
      "execution_count": null,
      "outputs": []
    },
    {
      "cell_type": "code",
      "source": [
        "import pandas as pd\n",
        "import glob\n",
        "import os\n",
        "\n",
        "# Caminho onde os arquivos Excel estão armazenados\n",
        "caminho = \"/content/\"\n",
        "# Substitua pelo seu caminho\n",
        "arquivos = glob.glob(os.path.join(caminho, '*,x1sx'))\n",
        "\n",
        "# Lista para armazenar os Dataframes individuais\n",
        "consolidado = []\n",
        "\n",
        "# Loop pelos arquívos para combinar\n",
        "for arquivo in arquivos:\n",
        "\n",
        "  #  Carregar o arquivo Excel\n",
        "\n",
        " df = pd.read_excel(arquivo)\n",
        " # Extrair o nome do arquivo (ex: \"semana1.xlsx*) para identificar a semana\n",
        " nome_arquivo = os.pathbasename(arquivo). split('.')[0]\n",
        "\n",
        " df[\"Semana\"] = nome_arquivo   # Adicionar uma coluna com a identificação da semana\n",
        "\n",
        "# Adicionar o DataFrame à lísta consolidado\n",
        "consolidado.append(df)\n",
        "\n",
        "# Combinar todos os DataFranes em um único\n",
        "df_completo = pd.concat(consolidado, ignore_index=True)\n",
        "\n",
        "# Salvar o resultado consolidado em um único arquívo Excel\n",
        "df_completo.to_excel(\"Relatorio_Mensal.xlsx\", index=False)\n",
        "\n",
        "print (\"Relatorios semanais consolidados com sucesso!\")"
      ],
      "metadata": {
        "colab": {
          "base_uri": "https://localhost:8080/"
        },
        "id": "1aaR_LOaKDd-",
        "outputId": "322fca6f-d4f4-4c69-f6b1-aba8bd21072c"
      },
      "execution_count": null,
      "outputs": [
        {
          "output_type": "stream",
          "name": "stdout",
          "text": [
            "Relatorios semanais consolidados com sucesso!\n"
          ]
        }
      ]
    }
  ],
  "metadata": {
    "colab": {
      "provenance": [],
      "authorship_tag": "ABX9TyO5s3np5pvyFcB1TRo9X8d1",
      "include_colab_link": true
    },
    "kernelspec": {
      "display_name": "Python 3",
      "name": "python3"
    },
    "language_info": {
      "name": "python"
    }
  },
  "nbformat": 4,
  "nbformat_minor": 0
}