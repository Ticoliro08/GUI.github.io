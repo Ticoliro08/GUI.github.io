{
  "nbformat": 4,
  "nbformat_minor": 0,
  "metadata": {
    "colab": {
      "provenance": [],
      "authorship_tag": "ABX9TyMrEZa88HogdH1xGFYKzbI8",
      "include_colab_link": true
    },
    "kernelspec": {
      "name": "python3",
      "display_name": "Python 3"
    },
    "language_info": {
      "name": "python"
    }
  },
  "cells": [
    {
      "cell_type": "markdown",
      "metadata": {
        "id": "view-in-github",
        "colab_type": "text"
      },
      "source": [
        "<a href=\"https://colab.research.google.com/github/Ticoliro08/GUI.github.io/blob/main/jogo_Cobrinha.ipynb\" target=\"_parent\"><img src=\"https://colab.research.google.com/assets/colab-badge.svg\" alt=\"Open In Colab\"/></a>"
      ]
    },
    {
      "cell_type": "markdown",
      "source": [
        "#Pygame"
      ],
      "metadata": {
        "id": "1v9kvfabTtR3"
      }
    },
    {
      "cell_type": "code",
      "execution_count": null,
      "metadata": {
        "id": "Bx_RqZiiTruS"
      },
      "outputs": [],
      "source": [
        "pip install pygame"
      ]
    },
    {
      "cell_type": "code",
      "source": [
        "import pygame\n",
        "import time\n",
        "import random"
      ],
      "metadata": {
        "id": "MWd42AT9Vwv5"
      },
      "execution_count": null,
      "outputs": []
    },
    {
      "cell_type": "code",
      "source": [
        "import pygame\n",
        "import time\n",
        "import random\n",
        "\n",
        "\n",
        "# velocidade da cobra\n",
        "snake_speed = 15\n",
        "\n",
        "# tamanho da janela\n",
        "window_x = 720\n",
        "window_y = 480\n",
        "\n",
        "# definindo cores\n",
        "black = pygame.Color(0, 0, 0)\n",
        "white = pygame.Color(255, 255, 255)\n",
        "red = pygame.Color(255, 0, 0)\n",
        "green = pygame.Color(0, 255, 0)\n",
        "blue = pygame.Color(0, 0, 255)\n",
        "\n",
        "# inicializando o Pygame\n",
        "pygame.init()\n",
        "\n",
        "# inicializando a janela do jogo\n",
        "pygame.display.set_caption('GeeksforGeeks Snakes')\n",
        "game_window = pygame.display.set_mode((window_x, window_y))\n",
        "\n",
        "# controlador de FPS {frames por segundo}\n",
        "fps = pygame.time.Clock()\n",
        "\n",
        "# posição padrão da cobra\n",
        "snake_position = [100, 50]\n",
        "\n",
        "# definindo os primeiros 4 blocos do corpo da cobra\n",
        "snake_body = [[100, 50],\n",
        "              [90, 50],\n",
        "              [80, 20],\n",
        "              [70, 50],\n",
        "              ]\n",
        "\n",
        "# posição da fruta\n",
        "fruit_position = [random.randrange(1, (window_x/10)) * 10,\n",
        "                  random.randrange(1, (window_y/10)) * 10]\n",
        "\n",
        "fruit_spawn = True\n",
        "\n",
        "# direção padrão da cobra\n",
        "direction = 'RIGHT'\n",
        "change_to = direction\n",
        "\n",
        "# pontuação padrão\n",
        "score = 0\n",
        "\n",
        "# função para exibir a pontuação\n",
        "def show_score(choice, color, font, size):\n",
        "    # criando objeto de fonte score_font\n",
        "     score_font = pygame.font.SysFont(font, size)\n",
        "\n",
        "\n",
        "     # criado o objeto de superficie de exibição score_surface\n",
        "     score_surface = score_font.render('Pontuação :' + str(score), True, color)\n",
        "\n",
        "     # criando um objetivo retangular para a superficie de texto score_surface\n",
        "     score_rect = score_surface.get_rect()\n",
        "\n",
        "     # exibindo o texto\n",
        "     game_window.blit(score_surface, score_rect)\n"
      ],
      "metadata": {
        "id": "h_tiulYapVKo"
      },
      "execution_count": null,
      "outputs": []
    }
  ]
}